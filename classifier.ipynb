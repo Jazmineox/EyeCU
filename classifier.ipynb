{
 "cells": [
  {
   "cell_type": "code",
   "execution_count": 999,
   "metadata": {},
   "outputs": [
    {
     "name": "stdout",
     "output_type": "stream",
     "text": [
      "Requirement already satisfied: scikit-learn in c:\\users\\ethan\\appdata\\local\\programs\\python\\python310\\lib\\site-packages (1.1.2)Note: you may need to restart the kernel to use updated packages.\n",
      "\n",
      "Requirement already satisfied: threadpoolctl>=2.0.0 in c:\\users\\ethan\\appdata\\local\\programs\\python\\python310\\lib\\site-packages (from scikit-learn) (3.1.0)\n",
      "Requirement already satisfied: numpy>=1.17.3 in c:\\users\\ethan\\appdata\\local\\programs\\python\\python310\\lib\\site-packages (from scikit-learn) (1.23.3)\n",
      "Requirement already satisfied: joblib>=1.0.0 in c:\\users\\ethan\\appdata\\local\\programs\\python\\python310\\lib\\site-packages (from scikit-learn) (1.2.0)\n",
      "Requirement already satisfied: scipy>=1.3.2 in c:\\users\\ethan\\appdata\\local\\programs\\python\\python310\\lib\\site-packages (from scikit-learn) (1.9.1)\n"
     ]
    }
   ],
   "source": [
    "%pip install -U scikit-learn"
   ]
  },
  {
   "cell_type": "code",
   "execution_count": 1000,
   "metadata": {},
   "outputs": [
    {
     "data": {
      "text/plain": [
       "[]"
      ]
     },
     "execution_count": 1000,
     "metadata": {},
     "output_type": "execute_result"
    }
   ],
   "source": [
    "import tensorflow as tf\n",
    "import os\n",
    "\n",
    "gpus = tf.config.experimental.list_physical_devices('GPU')\n",
    "gpus"
   ]
  },
  {
   "cell_type": "code",
   "execution_count": 1001,
   "metadata": {},
   "outputs": [],
   "source": [
    "gpus = tf.config.experimental.list_physical_devices('GPU')\n",
    "for gpu in gpus:\n",
    "    tf.config.experimental.set_memory_growth(gpu, True)"
   ]
  },
  {
   "cell_type": "code",
   "execution_count": 1002,
   "metadata": {},
   "outputs": [],
   "source": [
    "import cv2\n",
    "import imghdr"
   ]
  },
  {
   "cell_type": "code",
   "execution_count": 1003,
   "metadata": {},
   "outputs": [],
   "source": [
    "data_dir = 'data'\n",
    "classes = ['Bulging Eyes', 'Cataracts', 'Crossed Eyes', 'Glaucoma', 'Uveitits']"
   ]
  },
  {
   "cell_type": "code",
   "execution_count": 1004,
   "metadata": {},
   "outputs": [],
   "source": [
    "image_exts = ['jpeg', 'jpg', 'bmp', 'png']"
   ]
  },
  {
   "cell_type": "code",
   "execution_count": 1005,
   "metadata": {},
   "outputs": [],
   "source": [
    "for image_class in os.listdir(data_dir):\n",
    "    for image in os.listdir(os.path.join(data_dir, image_class)):\n",
    "        image_path = os.path.join(data_dir, image_class, image)\n",
    "        try:\n",
    "            img = cv2.imread(image_path)\n",
    "            tip = imghdr.what(image_path)\n",
    "            if tip not in image_exts:\n",
    "                print('Image not in ext list {}'.format(image_path))\n",
    "                os.remove(image_path)\n",
    "        except Exception as e:\n",
    "            print('Issue with image {}'.format(image_path))"
   ]
  },
  {
   "cell_type": "code",
   "execution_count": 1006,
   "metadata": {},
   "outputs": [],
   "source": [
    "tf.data.Dataset\n",
    "\n",
    "import numpy as np\n",
    "from matplotlib import pyplot as plt\n",
    "\n"
   ]
  },
  {
   "cell_type": "code",
   "execution_count": 1007,
   "metadata": {},
   "outputs": [
    {
     "name": "stdout",
     "output_type": "stream",
     "text": [
      "Found 383 files belonging to 5 classes.\n"
     ]
    }
   ],
   "source": [
    "data = tf.keras.utils.image_dataset_from_directory('data')"
   ]
  },
  {
   "cell_type": "code",
   "execution_count": 1008,
   "metadata": {},
   "outputs": [],
   "source": [
    "data_iterator = data.as_numpy_iterator()"
   ]
  },
  {
   "cell_type": "code",
   "execution_count": 1009,
   "metadata": {},
   "outputs": [],
   "source": [
    "# Get another batch from the iterator \n",
    "batch = data_iterator.next()"
   ]
  },
  {
   "cell_type": "code",
   "execution_count": 1010,
   "metadata": {},
   "outputs": [
    {
     "data": {
      "text/plain": [
       "(32, 256, 256, 3)"
      ]
     },
     "execution_count": 1010,
     "metadata": {},
     "output_type": "execute_result"
    }
   ],
   "source": [
    "# images Represented as numpy arrays\n",
    "batch[0].shape"
   ]
  },
  {
   "cell_type": "code",
   "execution_count": null,
   "metadata": {},
   "outputs": [],
   "source": [
    "# Class 1 = Sad \n",
    "# Class 0 = happy\n",
    "batch[1]"
   ]
  },
  {
   "cell_type": "code",
   "execution_count": null,
   "metadata": {},
   "outputs": [],
   "source": [
    "fig, ax = plt.subplots(ncols = 5, figsize =(20,20))\n",
    "for idx, img in enumerate(batch[0][:5]):\n",
    "    ax[idx].imshow(img.astype(int))\n",
    "    ax[idx].title.set_text(batch[1][idx])"
   ]
  },
  {
   "cell_type": "code",
   "execution_count": 1013,
   "metadata": {},
   "outputs": [],
   "source": [
    "scaled = batch[0] / 255"
   ]
  },
  {
   "cell_type": "code",
   "execution_count": 1014,
   "metadata": {},
   "outputs": [],
   "source": [
    "data = data.map(lambda x, y: (x / 255, y))"
   ]
  },
  {
   "cell_type": "code",
   "execution_count": 1015,
   "metadata": {},
   "outputs": [],
   "source": [
    "scaled_iterator = data.as_numpy_iterator()"
   ]
  },
  {
   "cell_type": "code",
   "execution_count": 1016,
   "metadata": {},
   "outputs": [],
   "source": [
    "batch = scaled_iterator.next()"
   ]
  },
  {
   "cell_type": "code",
   "execution_count": 1017,
   "metadata": {},
   "outputs": [
    {
     "data": {
      "text/plain": [
       "1.0"
      ]
     },
     "execution_count": 1017,
     "metadata": {},
     "output_type": "execute_result"
    }
   ],
   "source": [
    "batch[0].max()"
   ]
  },
  {
   "cell_type": "code",
   "execution_count": null,
   "metadata": {},
   "outputs": [],
   "source": [
    "fig, ax = plt.subplots(ncols = 5, figsize =(20,20))\n",
    "for idx, img in enumerate(batch[0][:5]):\n",
    "    ax[idx].imshow(img)\n",
    "    ax[idx].title.set_text(batch[1][idx])"
   ]
  },
  {
   "cell_type": "code",
   "execution_count": 1019,
   "metadata": {},
   "outputs": [
    {
     "data": {
      "text/plain": [
       "12"
      ]
     },
     "execution_count": 1019,
     "metadata": {},
     "output_type": "execute_result"
    }
   ],
   "source": [
    "len(data)\n"
   ]
  },
  {
   "cell_type": "code",
   "execution_count": 1020,
   "metadata": {},
   "outputs": [
    {
     "data": {
      "text/plain": [
       "8"
      ]
     },
     "execution_count": 1020,
     "metadata": {},
     "output_type": "execute_result"
    }
   ],
   "source": [
    "train_size = int(len(data) * .7)\n",
    "val_size = int(len(data) * .2)\n",
    "test_size = int(len(data) * .1) + 1\n",
    "\n",
    "train_size "
   ]
  },
  {
   "cell_type": "code",
   "execution_count": 1021,
   "metadata": {},
   "outputs": [],
   "source": [
    "train = data.take(train_size)\n",
    "val = data.skip(train_size).take(val_size)\n",
    "test = data.skip(train_size+val_size).take(test_size)\n"
   ]
  },
  {
   "cell_type": "code",
   "execution_count": 1022,
   "metadata": {},
   "outputs": [
    {
     "name": "stdout",
     "output_type": "stream",
     "text": [
      "Model: \"sequential_35\"\n",
      "_________________________________________________________________\n",
      " Layer (type)                Output Shape              Param #   \n",
      "=================================================================\n",
      " conv2d_123 (Conv2D)         (None, 128, 128, 64)      1792      \n",
      "                                                                 \n",
      " max_pooling2d_123 (MaxPooli  (None, 64, 64, 64)       0         \n",
      " ng2D)                                                           \n",
      "                                                                 \n",
      " conv2d_124 (Conv2D)         (None, 32, 32, 64)        36928     \n",
      "                                                                 \n",
      " max_pooling2d_124 (MaxPooli  (None, 16, 16, 64)       0         \n",
      " ng2D)                                                           \n",
      "                                                                 \n",
      " conv2d_125 (Conv2D)         (None, 8, 8, 128)         73856     \n",
      "                                                                 \n",
      " conv2d_126 (Conv2D)         (None, 4, 4, 128)         147584    \n",
      "                                                                 \n",
      " max_pooling2d_125 (MaxPooli  (None, 2, 2, 128)        0         \n",
      " ng2D)                                                           \n",
      "                                                                 \n",
      " max_pooling2d_126 (MaxPooli  (None, 1, 1, 128)        0         \n",
      " ng2D)                                                           \n",
      "                                                                 \n",
      " flatten_32 (Flatten)        (None, 128)               0         \n",
      "                                                                 \n",
      " dense_90 (Dense)            (None, 512)               66048     \n",
      "                                                                 \n",
      " dense_91 (Dense)            (None, 512)               262656    \n",
      "                                                                 \n",
      " dense_92 (Dense)            (None, 5)                 2565      \n",
      "                                                                 \n",
      "=================================================================\n",
      "Total params: 591,429\n",
      "Trainable params: 591,429\n",
      "Non-trainable params: 0\n",
      "_________________________________________________________________\n",
      "Epoch 1/30\n",
      "8/8 [==============================] - 5s 409ms/step - loss: 1.5316 - accuracy: 0.4141 - val_loss: 1.5489 - val_accuracy: 0.3906\n",
      "Epoch 2/30\n",
      "8/8 [==============================] - 3s 346ms/step - loss: 1.5251 - accuracy: 0.4453 - val_loss: 1.5145 - val_accuracy: 0.4062\n",
      "Epoch 3/30\n",
      "8/8 [==============================] - 3s 312ms/step - loss: 1.4691 - accuracy: 0.4375 - val_loss: 1.3704 - val_accuracy: 0.5000\n",
      "Epoch 4/30\n",
      "8/8 [==============================] - 3s 329ms/step - loss: 1.3865 - accuracy: 0.4648 - val_loss: 1.3643 - val_accuracy: 0.4844\n",
      "Epoch 5/30\n",
      "8/8 [==============================] - 3s 320ms/step - loss: 1.3894 - accuracy: 0.4492 - val_loss: 1.3904 - val_accuracy: 0.4375\n",
      "Epoch 6/30\n",
      "8/8 [==============================] - 3s 309ms/step - loss: 1.4364 - accuracy: 0.4062 - val_loss: 1.3809 - val_accuracy: 0.4844\n",
      "Epoch 7/30\n",
      "8/8 [==============================] - 3s 307ms/step - loss: 1.4050 - accuracy: 0.4648 - val_loss: 1.4508 - val_accuracy: 0.4219\n",
      "Epoch 8/30\n",
      "8/8 [==============================] - 3s 347ms/step - loss: 1.4044 - accuracy: 0.4531 - val_loss: 1.3603 - val_accuracy: 0.4531\n",
      "Epoch 9/30\n",
      "8/8 [==============================] - 3s 329ms/step - loss: 1.3527 - accuracy: 0.4805 - val_loss: 1.4638 - val_accuracy: 0.3750\n",
      "Epoch 10/30\n",
      "8/8 [==============================] - 3s 391ms/step - loss: 1.3736 - accuracy: 0.4648 - val_loss: 1.3474 - val_accuracy: 0.4219\n",
      "Epoch 11/30\n",
      "8/8 [==============================] - 3s 320ms/step - loss: 1.3624 - accuracy: 0.4570 - val_loss: 1.4818 - val_accuracy: 0.3906\n",
      "Epoch 12/30\n",
      "8/8 [==============================] - 3s 320ms/step - loss: 1.3635 - accuracy: 0.4375 - val_loss: 1.3398 - val_accuracy: 0.5000\n",
      "Epoch 13/30\n",
      "8/8 [==============================] - 3s 334ms/step - loss: 1.3746 - accuracy: 0.4531 - val_loss: 1.2076 - val_accuracy: 0.5781\n",
      "Epoch 14/30\n",
      "8/8 [==============================] - 3s 317ms/step - loss: 1.3295 - accuracy: 0.4688 - val_loss: 1.3101 - val_accuracy: 0.4375\n",
      "Epoch 15/30\n",
      "8/8 [==============================] - 3s 321ms/step - loss: 1.3068 - accuracy: 0.4727 - val_loss: 1.3605 - val_accuracy: 0.4219\n",
      "Epoch 16/30\n",
      "8/8 [==============================] - 3s 310ms/step - loss: 1.3626 - accuracy: 0.4297 - val_loss: 1.3556 - val_accuracy: 0.3594\n",
      "Epoch 17/30\n",
      "8/8 [==============================] - 3s 323ms/step - loss: 1.2927 - accuracy: 0.4609 - val_loss: 1.3241 - val_accuracy: 0.3906\n",
      "Epoch 18/30\n",
      "8/8 [==============================] - 3s 327ms/step - loss: 1.3043 - accuracy: 0.4180 - val_loss: 1.2412 - val_accuracy: 0.4688\n",
      "Epoch 19/30\n",
      "8/8 [==============================] - 3s 349ms/step - loss: 1.2604 - accuracy: 0.4805 - val_loss: 1.2883 - val_accuracy: 0.4219\n",
      "Epoch 20/30\n",
      "8/8 [==============================] - 3s 336ms/step - loss: 1.2191 - accuracy: 0.4609 - val_loss: 1.1759 - val_accuracy: 0.4688\n",
      "Epoch 21/30\n",
      "8/8 [==============================] - 3s 320ms/step - loss: 1.1850 - accuracy: 0.4492 - val_loss: 1.1187 - val_accuracy: 0.4062\n",
      "Epoch 22/30\n",
      "8/8 [==============================] - 3s 328ms/step - loss: 1.1527 - accuracy: 0.4883 - val_loss: 1.0646 - val_accuracy: 0.5625\n",
      "Epoch 23/30\n",
      "8/8 [==============================] - 3s 329ms/step - loss: 1.1555 - accuracy: 0.5391 - val_loss: 1.0252 - val_accuracy: 0.5781\n",
      "Epoch 24/30\n",
      "8/8 [==============================] - 3s 333ms/step - loss: 1.1568 - accuracy: 0.5117 - val_loss: 1.1617 - val_accuracy: 0.5625\n",
      "Epoch 25/30\n",
      "8/8 [==============================] - 3s 323ms/step - loss: 0.9536 - accuracy: 0.6055 - val_loss: 1.0455 - val_accuracy: 0.5469\n",
      "Epoch 26/30\n",
      "8/8 [==============================] - 3s 346ms/step - loss: 1.0035 - accuracy: 0.5977 - val_loss: 0.7794 - val_accuracy: 0.7969\n",
      "Epoch 27/30\n",
      "8/8 [==============================] - 3s 345ms/step - loss: 0.8733 - accuracy: 0.6172 - val_loss: 0.7205 - val_accuracy: 0.7656\n",
      "Epoch 28/30\n",
      "8/8 [==============================] - 3s 347ms/step - loss: 0.7780 - accuracy: 0.7188 - val_loss: 0.6518 - val_accuracy: 0.7656\n",
      "Epoch 29/30\n",
      "8/8 [==============================] - 3s 337ms/step - loss: 0.6488 - accuracy: 0.7500 - val_loss: 0.5555 - val_accuracy: 0.8281\n",
      "Epoch 30/30\n",
      "8/8 [==============================] - 3s 338ms/step - loss: 0.6580 - accuracy: 0.7227 - val_loss: 0.7362 - val_accuracy: 0.6875\n"
     ]
    }
   ],
   "source": [
    "from tensorflow.keras.models import Sequential\n",
    "from tensorflow.keras.layers import Conv2D, MaxPooling2D, Dense, Flatten\n",
    "\n",
    "model = Sequential()\n",
    "\n",
    "\n",
    "model.add(Conv2D(64, (3,3), 2, padding = 'same', activation = 'relu', input_shape = (256, 256, 3)))\n",
    "model.add(MaxPooling2D(pool_size = 2, strides = 2))\n",
    "model.add(Conv2D(64, (3,3), 2, padding = 'same', activation = 'relu', ))\n",
    "model.add(MaxPooling2D(pool_size = 2, strides = 2))\n",
    "model.add(Conv2D(128, (3,3), 2, padding = 'same', activation = 'relu', ))\n",
    "model.add(Conv2D(128, (3,3), 2, padding = 'same', activation = 'relu', ))\n",
    "model.add(MaxPooling2D(pool_size = 2, strides = 2))\n",
    "model.add(MaxPooling2D(pool_size = 2, strides = 2))\n",
    "model.add(Flatten())\n",
    "model.add(Dense(512, activation = 'relu'))\n",
    "model.add(Dense(512, activation = 'relu'))\n",
    "model.add(Dense(5, activation = 'softmax'))\n",
    "\n",
    "\n",
    "model.compile('adam', loss = tf.losses.sparse_categorical_crossentropy, metrics =['accuracy'])\n",
    "\n",
    "model.summary()\n",
    "\n",
    "logdir = 'logs'\n",
    "tensorboard_callback = tf.keras.callbacks.TensorBoard(log_dir = logdir)\n",
    "hist = model.fit(train, epochs = 30, validation_data = val)"
   ]
  },
  {
   "cell_type": "code",
   "execution_count": 1023,
   "metadata": {},
   "outputs": [
    {
     "data": {
      "image/png": "[encoded data removed]",
      "text/plain": [
       "<Figure size 640x480 with 1 Axes>"
      ]
     },
     "metadata": {},
     "output_type": "display_data"
    }
   ],
   "source": [
    "fig = plt.figure()\n",
    "plt.plot(hist.history['loss'], color = 'teal', label = 'loss')\n",
    "plt.plot(hist.history['val_loss'], color = 'orange', label = 'val_loss')\n",
    "fig.suptitle('Loss', fontsize = 20)\n",
    "plt.legend(loc = \"upper left\")\n",
    "plt.show()"
   ]
  },
  {
   "cell_type": "code",
   "execution_count": 1024,
   "metadata": {},
   "outputs": [
    {
     "data": {
      "image/png": "[encoded data removed]",
      "text/plain": [
       "<Figure size 640x480 with 1 Axes>"
      ]
     },
     "metadata": {},
     "output_type": "display_data"
    }
   ],
   "source": [
    "fig = plt.figure()\n",
    "plt.plot(hist.history['accuracy'], color = 'teal', label = 'accuracy')\n",
    "plt.plot(hist.history['val_accuracy'], color = 'orange', label = 'val_accuracy')\n",
    "fig.suptitle('Accuracy', fontsize = 20)\n",
    "plt.legend(loc = \"upper left\")\n",
    "plt.show()"
   ]
  },
  {
   "cell_type": "code",
   "execution_count": 1025,
   "metadata": {},
   "outputs": [],
   "source": [
    "#You can test the NN here by passing in an image\n",
    "#img = cv2.imread('glaucomatest.jpg')\n",
    "#plt.imshow(cv2.cvtColor(img, cv2.COLOR_BGR2RGB))\n",
    "#plt.show()"
   ]
  },
  {
   "cell_type": "code",
   "execution_count": 1026,
   "metadata": {},
   "outputs": [],
   "source": [
    "#Have to resize the image before we pass it into the NN\n",
    "#resize = tf.image.resize(img, (256, 256))\n",
    "#plt.imshow(resize.numpy().astype(int))\n",
    "#plt.show()"
   ]
  },
  {
   "cell_type": "code",
   "execution_count": 1032,
   "metadata": {},
   "outputs": [
    {
     "name": "stdout",
     "output_type": "stream",
     "text": [
      "2/2 [==============================] - 0s 82ms/step\n",
      "This image belongs to: Crossed Eyes\n",
      "This image belongs to: Crossed Eyes\n",
      "This image belongs to: Cataracts\n",
      "This image belongs to: Bulging Eyes\n",
      "This image belongs to: Glaucoma\n"
     ]
    },
    {
     "data": {
      "text/plain": [
       "array([[0., 0., 1., 0., 0.],\n",
       "       [0., 0., 1., 0., 0.],\n",
       "       [0., 1., 0., 0., 0.],\n",
       "       [1., 0., 0., 0., 0.],\n",
       "       [0., 0., 0., 1., 0.],\n",
       "       [0., 0., 1., 0., 0.],\n",
       "       [0., 0., 1., 0., 0.],\n",
       "       [0., 0., 1., 0., 0.],\n",
       "       [0., 0., 1., 0., 0.],\n",
       "       [0., 0., 1., 0., 0.],\n",
       "       [0., 0., 1., 0., 0.],\n",
       "       [0., 0., 0., 1., 0.],\n",
       "       [0., 0., 1., 0., 0.],\n",
       "       [0., 0., 0., 0., 0.],\n",
       "       [0., 0., 1., 0., 0.],\n",
       "       [0., 0., 1., 0., 0.],\n",
       "       [0., 0., 1., 0., 0.],\n",
       "       [0., 0., 1., 0., 0.],\n",
       "       [0., 0., 1., 0., 0.],\n",
       "       [0., 0., 0., 0., 0.],\n",
       "       [0., 0., 1., 0., 0.],\n",
       "       [0., 0., 1., 0., 0.],\n",
       "       [0., 1., 0., 0., 0.],\n",
       "       [1., 0., 0., 0., 0.],\n",
       "       [0., 0., 0., 0., 1.],\n",
       "       [0., 0., 0., 1., 0.],\n",
       "       [0., 1., 0., 0., 0.],\n",
       "       [0., 0., 0., 0., 0.],\n",
       "       [0., 0., 1., 0., 0.],\n",
       "       [0., 0., 1., 0., 0.],\n",
       "       [0., 0., 1., 0., 0.],\n",
       "       [0., 0., 1., 0., 0.],\n",
       "       [0., 0., 0., 0., 1.],\n",
       "       [0., 0., 0., 1., 0.],\n",
       "       [0., 0., 1., 0., 0.],\n",
       "       [0., 0., 0., 0., 0.],\n",
       "       [1., 0., 0., 0., 0.],\n",
       "       [0., 0., 0., 1., 0.],\n",
       "       [0., 0., 1., 0., 0.],\n",
       "       [0., 0., 1., 0., 0.],\n",
       "       [0., 0., 0., 0., 0.],\n",
       "       [1., 0., 0., 0., 0.],\n",
       "       [0., 0., 1., 0., 0.],\n",
       "       [0., 0., 1., 0., 0.],\n",
       "       [0., 0., 1., 0., 0.],\n",
       "       [0., 0., 0., 0., 0.],\n",
       "       [0., 0., 0., 0., 0.],\n",
       "       [0., 0., 0., 0., 0.],\n",
       "       [1., 0., 0., 0., 0.],\n",
       "       [0., 0., 1., 0., 0.],\n",
       "       [0., 0., 1., 0., 0.],\n",
       "       [0., 1., 0., 0., 0.],\n",
       "       [0., 0., 0., 0., 1.],\n",
       "       [0., 0., 0., 0., 1.],\n",
       "       [0., 0., 1., 0., 0.],\n",
       "       [0., 0., 0., 0., 1.],\n",
       "       [0., 0., 1., 0., 0.],\n",
       "       [0., 0., 1., 0., 0.],\n",
       "       [0., 0., 1., 0., 0.],\n",
       "       [0., 0., 1., 0., 0.],\n",
       "       [0., 0., 1., 0., 0.],\n",
       "       [0., 0., 0., 0., 0.],\n",
       "       [1., 0., 0., 0., 0.]], dtype=float32)"
      ]
     },
     "execution_count": 1032,
     "metadata": {},
     "output_type": "execute_result"
    }
   ],
   "source": [
    "preds = np.round(model.predict(test), 0)\n",
    "preds\n",
    "for i in range(5):\n",
    "    for j in range(5):\n",
    "        if preds[i][j] == 1:\n",
    "            print('This image belongs to: ' + classes[j])\n",
    "preds"
   ]
  },
  {
   "cell_type": "code",
   "execution_count": 1028,
   "metadata": {},
   "outputs": [],
   "source": [
    "\n",
    "#img_array = tf.keras.utils.img_to_array(resize)\n",
    "#img_array = tf.expand_dims(resize, 0) # Create a batch\n",
    "\n",
    "#predictions = model.predict(img_array)\n",
    "#score = tf.nn.softmax(preds)\n",
    "\n",
    "#print(\n",
    "#    \"This image most likely belongs to {} with a {:.2f} percent confidence.\"\n",
    "#    .format(classes[np.argmax(score)], 100 * np.max(score))\n",
    "#)"
   ]
  }
 ],
 "metadata": {
  "kernelspec": {
   "display_name": "Python 3.10.5 64-bit",
   "language": "python",
   "name": "python3"
  },
  "language_info": {
   "codemirror_mode": {
    "name": "ipython",
    "version": 3
   },
   "file_extension": ".py",
   "mimetype": "text/x-python",
   "name": "python",
   "nbconvert_exporter": "python",
   "pygments_lexer": "ipython3",
   "version": "3.10.5"
  },
  "orig_nbformat": 4,
  "vscode": {
   "interpreter": {
    "hash": "aee8b7b246df8f9039afb4144a1f6fd8d2ca17a180786b69acc140d282b71a49"
   }
  }
 },
 "nbformat": 4,
 "nbformat_minor": 2
}
